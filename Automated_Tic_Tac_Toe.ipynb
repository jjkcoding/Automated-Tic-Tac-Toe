{
  "nbformat": 4,
  "nbformat_minor": 0,
  "metadata": {
    "colab": {
      "name": "Automated Tic Tac Toe.ipynb",
      "provenance": [],
      "authorship_tag": "ABX9TyPBfVbbGaRqFlc4zA6yyrJN",
      "include_colab_link": true
    },
    "kernelspec": {
      "name": "python3",
      "display_name": "Python 3"
    }
  },
  "cells": [
    {
      "cell_type": "markdown",
      "metadata": {
        "id": "view-in-github",
        "colab_type": "text"
      },
      "source": [
        "<a href=\"https://colab.research.google.com/github/jjkcoding/Automated-Tic-Tac-Toe/blob/main/Automated_Tic_Tac_Toe.ipynb\" target=\"_parent\"><img src=\"https://colab.research.google.com/assets/colab-badge.svg\" alt=\"Open In Colab\"/></a>"
      ]
    },
    {
      "cell_type": "markdown",
      "metadata": {
        "id": "RQ77QUgRz9B9"
      },
      "source": [
        "# Automated Tic Tac Toe!\n",
        "\n",
        "#### Description: This is a mini artificial intelligence (AI) tic tac toe game. It is just like a regular tic tac toe except you are versing an ai that simulates 1000 future games each time you make one. Using the 1000 future games, the AI chooses the best move to either tie or win against you.\n",
        "\n",
        "Player 1 (You) = X \\\\\n",
        "Player 2 (AI) = O"
      ]
    },
    {
      "cell_type": "code",
      "metadata": {
        "id": "N_70--uTk47f"
      },
      "source": [
        "import random "
      ],
      "execution_count": null,
      "outputs": []
    },
    {
      "cell_type": "markdown",
      "metadata": {
        "id": "QzaY4Cmv05om"
      },
      "source": [
        "## Mini Artificial Intelligence Code:"
      ]
    },
    {
      "cell_type": "code",
      "metadata": {
        "id": "7l230LTLtCzO"
      },
      "source": [
        "# Runs a simulation of one game and returns:\n",
        "# 1) the first move from the start of the simulation IF the computer won or tied\n",
        "# 2) -1 IF the AI lost\n",
        "def each_sim(board):\n",
        "  copy_board = board.copy()\n",
        "  winner = 0\n",
        "  player = 2\n",
        "  first = -1\n",
        "  end = 9\n",
        "  available = [0, 1, 2, 3, 4, 5, 6, 7, 8]\n",
        "  while winner == 0 and end > 0:\n",
        "    if(len(available) == 1):\n",
        "      index = 0\n",
        "    else:\n",
        "      index = random.randint(0, len(available) - 1)\n",
        "    if place_mark(copy_board, available[index], True):\n",
        "      if first == -1:\n",
        "        first = available[index]\n",
        "      copy_board[available[index]] = player\n",
        "      if player == 2:\n",
        "        player = 1\n",
        "      else:\n",
        "        player = 2\n",
        "    end -= 1\n",
        "    available.remove(available[index])\n",
        "    winner = win_game(copy_board)\n",
        "  if winner == 2 or winner == 0:\n",
        "    return first\n",
        "  else:\n",
        "    return -1\n",
        "\n",
        "# Simulates 1000 moves and returns the best move\n",
        "def ai(board):\n",
        "  moves = [0] * 9\n",
        "  for i in range(0, 1000):\n",
        "    pos = each_sim(board)\n",
        "    if pos >= 0:\n",
        "      moves[pos] += 1\n",
        "  return(moves.index(max(moves)))\n"
      ],
      "execution_count": null,
      "outputs": []
    },
    {
      "cell_type": "markdown",
      "metadata": {
        "id": "_i4hPJLw1P5M"
      },
      "source": [
        "## Tic Tac Toe Game Code:"
      ]
    },
    {
      "cell_type": "code",
      "metadata": {
        "id": "L85c-6bXnhnX"
      },
      "source": [
        "# Function used to print the board\n",
        "def printBoard(cur_b):\n",
        "  for x in range(0, 3):\n",
        "    print_str = \"|\"\n",
        "    for y in range(0, 3):\n",
        "      index = (x*3) + (y % 3)\n",
        "      if(cur_b[index] == 0):\n",
        "        print_str += str(index) + \"|\"\n",
        "      elif(cur_b[index] == 1):\n",
        "        print_str += \"X|\"\n",
        "      else:\n",
        "        print_str += \"O|\"\n",
        "    print(print_str)\n",
        "\n",
        "# Checks if anyone won in any row\n",
        "def checkRow(board):\n",
        "  i = 0\n",
        "  for x in range(0, 3):\n",
        "    if board[i] == board[i+1] and board[i+1] == board[i+2]:\n",
        "      return board[i]\n",
        "    i += 3\n",
        "  return 0 \n",
        "\n",
        "# Checks if anyone won in any column\n",
        "def checkCol(board):\n",
        "  i = 0\n",
        "  for y in range(0, 3):\n",
        "    if board[i] == board[i+3] and board[i+3] == board[i+6]:\n",
        "      return board[i]\n",
        "    i += 1\n",
        "  return 0\n",
        "\n",
        "# Checks the diagonals\n",
        "def checkDiag(board):\n",
        "  if board[0] == board[4] and board[4] == board[8]:\n",
        "    return board[0]\n",
        "  elif board[2] == board[4] and board[4] == board[6]:\n",
        "    return board[2]\n",
        "  return 0\n",
        "  \n",
        "# Checks to see if you have won the game\n",
        "def win_game(board):\n",
        "  row = checkRow(board)\n",
        "  col = checkCol(board)\n",
        "  diag = checkDiag(board)\n",
        "  val = max(row, col, diag)\n",
        "  if val > 0:\n",
        "    return val\n",
        "  return 0\n",
        "\n",
        "# Makes sure that the board allows this move\n",
        "def place_mark(board, index, sim):\n",
        "  if index < 0 or index > 9 or board[index] > 0:\n",
        "    if sim == False:\n",
        "      print(\"You Cannot Place Value There!\")\n",
        "    return False\n",
        "  return True\n",
        "\n",
        "# This function loops the tic tac toe game between player 1 and player 2 until one of the players wins, loses, or ties\n",
        "def loop_game(board):\n",
        "  winner = 0\n",
        "  player = 1\n",
        "  end = 9\n",
        "  while(winner == 0 and end > 0):\n",
        "    print(\"----------------\")\n",
        "    printBoard(board)\n",
        "    # Asks for input of Player 1 and makes sure move is valid\n",
        "    if player == 1:\n",
        "      print(\"Input Location: \")\n",
        "      player_input = int(input())\n",
        "      if place_mark(board, player_input, False):\n",
        "        board[player_input] = player\n",
        "        player = 2\n",
        "        end -= 1\n",
        "    # AI simulates 1000 different moves then proceeds with best move\n",
        "    elif player == 2:\n",
        "      best = ai(board)\n",
        "      board[best] = player\n",
        "      player = 1\n",
        "      end -= 1\n",
        "    winner = win_game(board)\n",
        "  print(\"----------------\")\n",
        "  printBoard(board)\n",
        "  print()\n",
        "  if(winner == 0):\n",
        "    print(\"IT WAS A TIE!!!\")\n",
        "  else:\n",
        "    print(\"WINNER: Player \" + str(winner))\n",
        "\n",
        "\n",
        "def start_game():\n",
        "  board = [0] * 9\n",
        "  loop_game(board)"
      ],
      "execution_count": null,
      "outputs": []
    },
    {
      "cell_type": "markdown",
      "metadata": {
        "id": "wCnoia0D1XQL"
      },
      "source": [
        "## Try the Game:"
      ]
    },
    {
      "cell_type": "code",
      "metadata": {
        "colab": {
          "base_uri": "https://localhost:8080/"
        },
        "id": "cKviKizj0KUm",
        "outputId": "48ab95e3-0a4c-4528-d49b-c80b7511e9d9"
      },
      "source": [
        "start_game()"
      ],
      "execution_count": null,
      "outputs": [
        {
          "output_type": "stream",
          "text": [
            "----------------\n",
            "|0|1|2|\n",
            "|3|4|5|\n",
            "|6|7|8|\n",
            "Input Location: \n",
            "4\n",
            "----------------\n",
            "|0|1|2|\n",
            "|3|X|5|\n",
            "|6|7|8|\n",
            "----------------\n",
            "|0|1|2|\n",
            "|3|X|5|\n",
            "|6|7|O|\n",
            "Input Location: \n",
            "5\n",
            "----------------\n",
            "|0|1|2|\n",
            "|3|X|X|\n",
            "|6|7|O|\n",
            "----------------\n",
            "|0|1|2|\n",
            "|O|X|X|\n",
            "|6|7|O|\n",
            "Input Location: \n",
            "2\n",
            "----------------\n",
            "|0|1|X|\n",
            "|O|X|X|\n",
            "|6|7|O|\n",
            "----------------\n",
            "|0|1|X|\n",
            "|O|X|X|\n",
            "|O|7|O|\n",
            "Input Location: \n",
            "7\n",
            "----------------\n",
            "|0|1|X|\n",
            "|O|X|X|\n",
            "|O|X|O|\n",
            "----------------\n",
            "|O|1|X|\n",
            "|O|X|X|\n",
            "|O|X|O|\n",
            "\n",
            "WINNER: Player 2\n"
          ],
          "name": "stdout"
        }
      ]
    },
    {
      "cell_type": "markdown",
      "metadata": {
        "id": "RUriewkY1aP8"
      },
      "source": [
        "## Conclusion:\n",
        "Majority of the time, you would either lose or tie to the AI. However, there are moments where the AI would prioritize trying to win the game before blocking Player 1. This would result in automatically losing the game. Although it would be better to just try every move due to the small number of moves, there are multiple real life situations where it is impossible to attempt every move. "
      ]
    }
  ]
}